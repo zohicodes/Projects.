{
  "nbformat": 4,
  "nbformat_minor": 0,
  "metadata": {
    "colab": {
      "provenance": [],
      "authorship_tag": "ABX9TyPtOgF5KHFg/Pqqzeq/D0dd"
    },
    "kernelspec": {
      "name": "python3",
      "display_name": "Python 3"
    },
    "language_info": {
      "name": "python"
    }
  },
  "cells": [
    {
      "cell_type": "markdown",
      "source": [
        "## Objective\n",
        "Creating an inventory management system that keeps track of a company's stock levels is the goal of this project. When an item's stock drops below a predetermined reorder level, the system will send alerts. By doing this, businesses can prevent stockouts and overstocking and maintain optimal inventory levels."
      ],
      "metadata": {
        "id": "oRuI_Auy_wuH"
      }
    },
    {
      "cell_type": "code",
      "execution_count": null,
      "metadata": {
        "id": "umNqGbsv-_WK"
      },
      "outputs": [],
      "source": [
        "import pandas as pd"
      ]
    },
    {
      "cell_type": "code",
      "source": [
        "inventory = pd.DataFrame(columns=['Product', 'Quantity', 'Reorder_Level', 'Price'])"
      ],
      "metadata": {
        "id": "r-7SzzlQ_SWI"
      },
      "execution_count": null,
      "outputs": []
    },
    {
      "cell_type": "code",
      "source": [
        "def add_product(product, quantity, reorder_level, price):\n",
        "    global inventory\n",
        "    new_product = pd.DataFrame([[product, quantity, reorder_level, price]], columns=['Product', 'Quantity', 'Reorder_Level', 'Price'])\n",
        "    inventory = pd.concat([inventory, new_product], ignore_index=True)\n",
        "    print(f'Added {product} to inventory.')"
      ],
      "metadata": {
        "id": "HQ2W5fXX_V38"
      },
      "execution_count": null,
      "outputs": []
    },
    {
      "cell_type": "code",
      "source": [
        "def view_inventory():\n",
        "    print(\"\\nCurrent Inventory:\")\n",
        "    print(inventory)"
      ],
      "metadata": {
        "id": "rjCBJq1u_Y7s"
      },
      "execution_count": null,
      "outputs": []
    },
    {
      "cell_type": "code",
      "source": [
        "def check_reorder_alerts():\n",
        "    reorder_products = inventory[inventory['Quantity'] < inventory['Reorder_Level']]\n",
        "    if len(reorder_products) > 0:\n",
        "        print(\"\\nReorder Alert! The following products need to be reordered:\")\n",
        "        print(reorder_products[['Product', 'Quantity', 'Reorder_Level']])\n",
        "    else:\n",
        "        print(\"\\nNo products require reordering at the moment.\")"
      ],
      "metadata": {
        "id": "hmNtgLef_bE-"
      },
      "execution_count": null,
      "outputs": []
    },
    {
      "cell_type": "code",
      "source": [
        "def update_stock(product, quantity):\n",
        "    global inventory\n",
        "    inventory.loc[inventory['Product'] == product, 'Quantity'] += quantity\n",
        "    print(f'Updated {product} stock by {quantity}.')"
      ],
      "metadata": {
        "id": "VrRG8LeQ_dPl"
      },
      "execution_count": null,
      "outputs": []
    },
    {
      "cell_type": "code",
      "source": [
        "add_product('Widget A', 50, 20, 5.99)\n",
        "add_product('Widget B', 10, 15, 3.49)\n",
        "add_product('Gadget C', 5, 10, 7.99)"
      ],
      "metadata": {
        "id": "BU4ebxf1_e60"
      },
      "execution_count": null,
      "outputs": []
    },
    {
      "cell_type": "code",
      "source": [
        "view_inventory()"
      ],
      "metadata": {
        "id": "6bHSWfta_geS"
      },
      "execution_count": null,
      "outputs": []
    },
    {
      "cell_type": "code",
      "source": [
        "check_reorder_alerts()"
      ],
      "metadata": {
        "id": "DoXGP3KY_iCC"
      },
      "execution_count": null,
      "outputs": []
    },
    {
      "cell_type": "code",
      "source": [
        "update_stock('Gadget C', 20)"
      ],
      "metadata": {
        "id": "JweW3vCU_jPg"
      },
      "execution_count": null,
      "outputs": []
    },
    {
      "cell_type": "code",
      "source": [
        "view_inventory()"
      ],
      "metadata": {
        "id": "yRNG95AJ_mCz"
      },
      "execution_count": null,
      "outputs": []
    },
    {
      "cell_type": "code",
      "source": [
        "check_reorder_alerts()"
      ],
      "metadata": {
        "id": "Aix03IZA_u1c"
      },
      "execution_count": null,
      "outputs": []
    }
  ]
}