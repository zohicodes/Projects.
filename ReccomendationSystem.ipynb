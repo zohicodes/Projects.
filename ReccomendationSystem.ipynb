{
  "nbformat": 4,
  "nbformat_minor": 0,
  "metadata": {
    "colab": {
      "provenance": [],
      "authorship_tag": "ABX9TyNGnBgBVPySW44N7H217K4y"
    },
    "kernelspec": {
      "name": "python3",
      "display_name": "Python 3"
    },
    "language_info": {
      "name": "python"
    }
  },
  "cells": [
    {
      "cell_type": "code",
      "execution_count": null,
      "metadata": {
        "id": "Xua1csvyvRtI"
      },
      "outputs": [],
      "source": [
        "# Install the Surprise library (uncomment this line when running in Google Colab)\n",
        "!pip install scikit-surprise\n",
        "\n",
        "# Import necessary libraries\n",
        "import pandas as pd\n",
        "from surprise import Dataset, Reader, SVD\n",
        "from surprise.model_selection import train_test_split\n",
        "from surprise import accuracy"
      ]
    },
    {
      "cell_type": "code",
      "source": [
        "# Load and Prepare Data\n",
        "\n",
        "# Load the movie ratings dataset\n",
        "data = {\n",
        "    'user_id': [1, 1, 1, 2, 2, 2, 3, 3, 3],\n",
        "    'movie_id': [1, 2, 3, 1, 2, 4, 2, 3, 4],\n",
        "    'rating': [5, 4, 3, 4, 5, 2, 2, 4, 5]\n",
        "}\n",
        "df = pd.DataFrame(data)\n",
        "\n",
        "# Display the dataset\n",
        "df.head()"
      ],
      "metadata": {
        "id": "IN9oPpd6wNpo"
      },
      "execution_count": null,
      "outputs": []
    },
    {
      "cell_type": "code",
      "source": [
        "# Use Surprise library to handle the dataset\n",
        "reader = Reader(rating_scale=(1, 5))\n",
        "data = Dataset.load_from_df(df[['user_id', 'movie_id', 'rating']], reader)"
      ],
      "metadata": {
        "id": "EpnnYEWmwTAd"
      },
      "execution_count": null,
      "outputs": []
    },
    {
      "cell_type": "code",
      "source": [
        "trainset, testset = train_test_split(data, test_size=0.25)"
      ],
      "metadata": {
        "id": "sdrSkVjxwYCs"
      },
      "execution_count": null,
      "outputs": []
    },
    {
      "cell_type": "code",
      "source": [
        "# Use SVD (Singular Value Decomposition) algorithm for recommendations\n",
        "algo = SVD()"
      ],
      "metadata": {
        "id": "JTX0IgyPwc5I"
      },
      "execution_count": null,
      "outputs": []
    },
    {
      "cell_type": "code",
      "source": [
        "# Train the algorithm on the training set\n",
        "algo.fit(trainset)"
      ],
      "metadata": {
        "id": "qJl7uVjIwgNH"
      },
      "execution_count": null,
      "outputs": []
    },
    {
      "cell_type": "code",
      "source": [
        "# Test the algorithm on the test set\n",
        "predictions = algo.test(testset)"
      ],
      "metadata": {
        "id": "acV9tfJswqmg"
      },
      "execution_count": null,
      "outputs": []
    },
    {
      "cell_type": "code",
      "source": [
        "# Function to get top N recommendations for a given user\n",
        "def get_top_n_recommendations(predictions, user_id, n=5):\n",
        "    # Filter out predictions for the given user\n",
        "    user_predictions = [pred for pred in predictions if pred.uid == user_id]\n",
        "    # Sort the predictions by estimated rating in descending order\n",
        "    user_predictions.sort(key=lambda x: x.est, reverse=True)\n",
        "    # Get the top N predictions\n",
        "    top_n = user_predictions[:n]\n",
        "    return [(pred.iid, pred.est) for pred in top_n]"
      ],
      "metadata": {
        "id": "Qm7hx_A-wsu5"
      },
      "execution_count": null,
      "outputs": []
    },
    {
      "cell_type": "code",
      "source": [
        "# Get recommendations for a specific user\n",
        "user_id = 1\n",
        "recommendations = get_top_n_recommendations(predictions, user_id)"
      ],
      "metadata": {
        "id": "cOuHdhrxwu-b"
      },
      "execution_count": null,
      "outputs": []
    },
    {
      "cell_type": "code",
      "source": [
        "# Display the recommendations\n",
        "print(f\"Top recommendations for user {user_id}:\")\n",
        "for movie_id, estimated_rating in recommendations:\n",
        "    print(f\"Movie ID: {movie_id}, Estimated Rating: {estimated_rating}\")"
      ],
      "metadata": {
        "id": "ItsjrUjeww3w"
      },
      "execution_count": null,
      "outputs": []
    }
  ]
}