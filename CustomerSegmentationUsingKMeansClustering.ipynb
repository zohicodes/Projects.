{
  "nbformat": 4,
  "nbformat_minor": 0,
  "metadata": {
    "colab": {
      "provenance": [],
      "authorship_tag": "ABX9TyNEMTLcfege4nuvLCK37+0N"
    },
    "kernelspec": {
      "name": "python3",
      "display_name": "Python 3"
    },
    "language_info": {
      "name": "python"
    }
  },
  "cells": [
    {
      "cell_type": "markdown",
      "source": [
        "## Import Libraries:"
      ],
      "metadata": {
        "id": "rWMsxwgrRl2W"
      }
    },
    {
      "cell_type": "code",
      "execution_count": null,
      "metadata": {
        "id": "UM80uWJVResg"
      },
      "outputs": [],
      "source": [
        "import pandas as pd\n",
        "import numpy as np\n",
        "import matplotlib.pyplot as plt\n",
        "import seaborn as sns\n",
        "from sklearn.cluster import KMeans\n",
        "from sklearn.preprocessing import StandardScaler"
      ]
    },
    {
      "cell_type": "markdown",
      "source": [
        "## Load Dataset and Explore"
      ],
      "metadata": {
        "id": "JjIuYEG6R1Hv"
      }
    },
    {
      "cell_type": "code",
      "source": [
        "# Sample customer data\n",
        "data = {\n",
        "    'CustomerID': range(1, 201),\n",
        "    'Age': np.random.randint(18, 70, size=200),\n",
        "    'Annual Income (k$)': np.random.randint(15, 137, size=200),\n",
        "    'Spending Score (1-100)': np.random.randint(1, 100, size=200)\n",
        "}\n",
        "\n",
        "# Creating a DataFrame\n",
        "df = pd.DataFrame(data)\n",
        "\n",
        "# Displaying the first few rows of the dataset\n",
        "df.head()"
      ],
      "metadata": {
        "id": "qfdmnb20R7HY"
      },
      "execution_count": null,
      "outputs": []
    },
    {
      "cell_type": "markdown",
      "source": [
        "## Data Preprocessing"
      ],
      "metadata": {
        "id": "Id6qC2qsR8vt"
      }
    },
    {
      "cell_type": "code",
      "source": [
        "X = df[['Age', 'Annual Income (k$)', 'Spending Score (1-100)']]\n",
        "\n",
        "scaler = StandardScaler()\n",
        "X_scaled = scaler.fit_transform(X)\n",
        "\n",
        "X_scaled[:5]"
      ],
      "metadata": {
        "id": "bBNh2aqTSLFZ"
      },
      "execution_count": null,
      "outputs": []
    },
    {
      "cell_type": "markdown",
      "source": [
        "## Apply K-Means Clustering"
      ],
      "metadata": {
        "id": "EMzLJDABSRZQ"
      }
    },
    {
      "cell_type": "code",
      "source": [
        "# Finding optimal number of clusters using Elbow Method\n",
        "inertia = []\n",
        "for k in range(1, 11):\n",
        "    kmeans = KMeans(n_clusters=k, random_state=42)\n",
        "    kmeans.fit(X_scaled)\n",
        "    inertia.append(kmeans.inertia_)\n",
        "\n",
        "# Plotting Elbow Curve\n",
        "plt.figure(figsize=(8, 5))\n",
        "plt.plot(range(1, 11), inertia, marker='o')\n",
        "plt.title('Elbow Method for Optimal Number of Clusters')\n",
        "plt.xlabel('Number of Clusters')\n",
        "plt.ylabel('Inertia')\n",
        "plt.show()"
      ],
      "metadata": {
        "id": "EidMa0XbSVK7"
      },
      "execution_count": null,
      "outputs": []
    },
    {
      "cell_type": "markdown",
      "source": [
        "## Training section"
      ],
      "metadata": {
        "id": "RD4YtZdNSc9T"
      }
    },
    {
      "cell_type": "code",
      "source": [
        "# Setting optimal number of clusters to 4 based on the elbow curve\n",
        "kmeans = KMeans(n_clusters=4, random_state=42)\n",
        "\n",
        "# Fitting model to scaled data\n",
        "kmeans.fit(X_scaled)\n",
        "\n",
        "# Adding cluster labels to original DataFrame\n",
        "df['Cluster'] = kmeans.labels_\n",
        "\n",
        "# Displaying data with cluster labels\n",
        "df.head()"
      ],
      "metadata": {
        "id": "NgtO0NNYSgWm"
      },
      "execution_count": null,
      "outputs": []
    },
    {
      "cell_type": "markdown",
      "source": [
        "## Visualise clusters"
      ],
      "metadata": {
        "id": "tQs_3jhjSnvE"
      }
    },
    {
      "cell_type": "code",
      "source": [
        "# Visualizing clusters using scatter plot\n",
        "plt.figure(figsize=(10, 7))\n",
        "sns.scatterplot(x='Annual Income (k$)', y='Spending Score (1-100)',\n",
        "                hue='Cluster', data=df, palette='viridis', s=100)\n",
        "plt.title('Customer Segmentation (K-Means Clustering)')\n",
        "plt.show()"
      ],
      "metadata": {
        "id": "SG5kdFQMSqZb"
      },
      "execution_count": null,
      "outputs": []
    },
    {
      "cell_type": "markdown",
      "source": [
        "## Intrepreting and Analzying clusters :)"
      ],
      "metadata": {
        "id": "F38RY2xXStxQ"
      }
    },
    {
      "cell_type": "code",
      "source": [
        "cluster_analysis = df.groupby('Cluster').mean()\n",
        "cluster_analysis"
      ],
      "metadata": {
        "id": "ndeYPV9oSz6i"
      },
      "execution_count": null,
      "outputs": []
    }
  ]
}