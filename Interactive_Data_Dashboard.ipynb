{
  "nbformat": 4,
  "nbformat_minor": 0,
  "metadata": {
    "colab": {
      "provenance": [],
      "authorship_tag": "ABX9TyNWVOzqIKgZHzS0I5w/96ig"
    },
    "kernelspec": {
      "name": "python3",
      "display_name": "Python 3"
    },
    "language_info": {
      "name": "python"
    }
  },
  "cells": [
    {
      "cell_type": "markdown",
      "source": [
        "# Project Overview\n",
        "\n",
        "**Data Preparation:** Load and prepare the dataset.\n",
        "\n",
        "**Dashboard Design:** Create the layout for the dashboard.\n",
        "\n",
        "**Interactive Components:** Add interactivity with dropdowns, sliders, and other widgets.\n",
        "\n",
        "**Visualization**: Plot dynamic graphs and charts based on user input.\n",
        "\n",
        "**Deployment:** Optionally, deploy the dashboard to the web using Google Colab and ngrok.\n"
      ],
      "metadata": {
        "id": "0uYcv2LQQWkc"
      }
    },
    {
      "cell_type": "code",
      "execution_count": null,
      "metadata": {
        "id": "P2qZWDGmPQtJ"
      },
      "outputs": [],
      "source": [
        "# Install necessary libraries (uncomment if using Google Colab)\n",
        "!pip install dash dash-bootstrap-components plotly\n",
        "\n",
        "# Import libraries\n",
        "import dash\n",
        "import dash_core_components as dcc\n",
        "import dash_html_components as html\n",
        "from dash.dependencies import Input, Output\n",
        "import plotly.express as px\n",
        "import pandas as pd\n",
        "from flask_ngrok import run_with_ngrok  # Use this if deploying on Google Colab"
      ]
    },
    {
      "cell_type": "code",
      "source": [
        "# Load dataset\n",
        "df = px.data.iris()\n",
        "\n",
        "# Display the first few rows\n",
        "df.head()"
      ],
      "metadata": {
        "id": "Vt_06SYDPl6F"
      },
      "execution_count": null,
      "outputs": []
    },
    {
      "cell_type": "code",
      "source": [
        "# Initialize the Dash app\n",
        "app = dash.Dash(__name__)\n",
        "\n",
        "# Define the layout\n",
        "app.layout = html.Div([\n",
        "    html.H1(\"Interactive Iris Data Dashboard\"),\n",
        "\n",
        "    # Dropdown for selecting features to plot\n",
        "    html.Label(\"Select Feature for X-axis:\"),\n",
        "    dcc.Dropdown(\n",
        "        id='xaxis-feature',\n",
        "        options=[{'label': col, 'value': col} for col in df.columns[:-1]],\n",
        "        value='sepal_width'\n",
        "    ),\n",
        "\n",
        "    html.Label(\"Select Feature for Y-axis:\"),\n",
        "    dcc.Dropdown(\n",
        "        id='yaxis-feature',\n",
        "        options=[{'label': col, 'value': col} for col in df.columns[:-1]],\n",
        "        value='sepal_length'\n",
        "    ),\n",
        "\n",
        "    # Graph for displaying the scatter plot\n",
        "    dcc.Graph(id='scatter-plot')\n",
        "])"
      ],
      "metadata": {
        "id": "aChwglASPn-e"
      },
      "execution_count": null,
      "outputs": []
    },
    {
      "cell_type": "code",
      "source": [
        "# Define the callback to update the scatter plot based on selected features\n",
        "@app.callback(\n",
        "    Output('scatter-plot', 'figure'),\n",
        "    [Input('xaxis-feature', 'value'),\n",
        "     Input('yaxis-feature', 'value')]\n",
        ")\n",
        "def update_scatter_plot(xaxis_feature, yaxis_feature):\n",
        "    fig = px.scatter(df, x=xaxis_feature, y=yaxis_feature, color='species')\n",
        "    fig.update_layout(title=f'Scatter plot of {xaxis_feature} vs {yaxis_feature}')\n",
        "    return fig"
      ],
      "metadata": {
        "id": "A3oc_y6YQQVN"
      },
      "execution_count": null,
      "outputs": []
    },
    {
      "cell_type": "code",
      "source": [
        "# Run the Dash app\n",
        "if __name__ == '__main__':\n",
        "    # Use ngrok in Google Colab to expose the app externally\n",
        "    run_with_ngrok(app)\n",
        "    app.run_server()"
      ],
      "metadata": {
        "id": "a5x_V3ABQThs"
      },
      "execution_count": null,
      "outputs": []
    }
  ]
}