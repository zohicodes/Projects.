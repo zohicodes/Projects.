{
  "nbformat": 4,
  "nbformat_minor": 0,
  "metadata": {
    "colab": {
      "provenance": [],
      "authorship_tag": "ABX9TyMBwPabJgJXMwGCGqYeugsQ"
    },
    "kernelspec": {
      "name": "python3",
      "display_name": "Python 3"
    },
    "language_info": {
      "name": "python"
    }
  },
  "cells": [
    {
      "cell_type": "markdown",
      "source": [
        "## Aim:\n",
        "\n",
        "\n",
        "*  create a system that processes customer reviews or feedback\n",
        "*  analyzes the sentiment behind them (positive, negative, or neutral\n",
        "*  generates a summary report\n",
        "\n",
        "\n",
        "\n"
      ],
      "metadata": {
        "id": "wq5djsqwN6wx"
      }
    },
    {
      "cell_type": "code",
      "execution_count": null,
      "metadata": {
        "id": "RXDwEEirNf-0"
      },
      "outputs": [],
      "source": [
        "import pandas as pd\n",
        "from textblob import TextBlob\n",
        "import matplotlib.pyplot as plt"
      ]
    },
    {
      "cell_type": "code",
      "source": [
        "feedback_data = pd.DataFrame({\n",
        "    'Customer': ['Alice', 'Bob', 'Charlie', 'Diana', 'Edward'],\n",
        "    'Feedback': [\n",
        "        'Great product! Absolutely love it.',\n",
        "        'Terrible service. Very disappointed.',\n",
        "        'It was okay, nothing special.',\n",
        "        'Fantastic experience, will buy again!',\n",
        "        'Not worth the money. Horrible quality.'\n",
        "    ]\n",
        "})"
      ],
      "metadata": {
        "id": "J3s4Rnn5P8AG"
      },
      "execution_count": null,
      "outputs": []
    },
    {
      "cell_type": "code",
      "source": [
        "def analyze_sentiment(feedback):\n",
        "    analysis = TextBlob(feedback)\n",
        "    # Classifying sentiment polarity\n",
        "    if analysis.sentiment.polarity > 0:\n",
        "        return 'Positive'\n",
        "    elif analysis.sentiment.polarity == 0:\n",
        "        return 'Neutral'\n",
        "    else:\n",
        "        return 'Negative'"
      ],
      "metadata": {
        "id": "BuXi1qVnQCyJ"
      },
      "execution_count": null,
      "outputs": []
    },
    {
      "cell_type": "code",
      "source": [
        "feedback_data['Sentiment'] = feedback_data['Feedback'].apply(analyze_sentiment)"
      ],
      "metadata": {
        "id": "XdF5S0XmQEmi"
      },
      "execution_count": null,
      "outputs": []
    },
    {
      "cell_type": "code",
      "source": [
        "print(\"Feedback with Sentiment:\")\n",
        "print(feedback_data)"
      ],
      "metadata": {
        "id": "jI80RJYRQMeW"
      },
      "execution_count": null,
      "outputs": []
    },
    {
      "cell_type": "code",
      "source": [
        "sentiment_counts = feedback_data['Sentiment'].value_counts()\n",
        "plt.bar(sentiment_counts.index, sentiment_counts.values, color=['green', 'blue', 'red'])\n",
        "plt.title('Sentiment Distribution')\n",
        "plt.xlabel('Sentiment')\n",
        "plt.ylabel('Count')\n",
        "plt.show()"
      ],
      "metadata": {
        "id": "geTsNxdcQNv9"
      },
      "execution_count": null,
      "outputs": []
    },
    {
      "cell_type": "markdown",
      "source": [
        "## Explanation:\n",
        "* **Input**: DataFrame of customer feedback, where each customer provides their review.\n",
        "* **Sentiment Analysis**: Using TextBlob library, which is a simple NLP tool that analyzes the polarity of the text. Polarity > 0 means positive, 0 is neutral, and < 0 is negative.\n",
        "* **Visualization**: Distribution of sentiments were plotted using Matplotlib, with a bar chart showing the counts of positive, neutral, and negative feedback.\n",
        "\n"
      ],
      "metadata": {
        "id": "RzZv-pNVQQ17"
      }
    }
  ]
}