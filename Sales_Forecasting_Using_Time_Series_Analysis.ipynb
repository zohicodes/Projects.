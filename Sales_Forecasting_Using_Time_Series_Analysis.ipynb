{
  "nbformat": 4,
  "nbformat_minor": 0,
  "metadata": {
    "colab": {
      "provenance": [],
      "authorship_tag": "ABX9TyOLohPYJsCSMkvZI6UBCyQO"
    },
    "kernelspec": {
      "name": "python3",
      "display_name": "Python 3"
    },
    "language_info": {
      "name": "python"
    }
  },
  "cells": [
    {
      "cell_type": "code",
      "execution_count": null,
      "metadata": {
        "id": "W9E9j1jgTZ_b"
      },
      "outputs": [],
      "source": [
        "import pandas as pd\n",
        "import numpy as np\n",
        "import matplotlib.pyplot as plt\n",
        "from statsmodels.tsa.arima.model import ARIMA\n",
        "from sklearn.metrics import mean_absolute_error, mean_squared_error"
      ]
    },
    {
      "cell_type": "markdown",
      "source": [
        "## Loading dataset"
      ],
      "metadata": {
        "id": "tq3mzVWlTnWa"
      }
    },
    {
      "cell_type": "code",
      "source": [
        "# Generating sample sales data\n",
        "date_range = pd.date_range(start='2020-01-01', periods=100, freq='D')\n",
        "np.random.seed(42)\n",
        "sales_data = np.random.poisson(lam=200, size=100)\n",
        "\n",
        "# Creating a DataFrame\n",
        "df = pd.DataFrame({'Date': date_range, 'Sales': sales_data})\n",
        "df.set_index('Date', inplace=True)\n",
        "\n",
        "# Displaying the first few rows\n",
        "df.head()"
      ],
      "metadata": {
        "id": "yP8XDoXwTpeP"
      },
      "execution_count": null,
      "outputs": []
    },
    {
      "cell_type": "markdown",
      "source": [
        "## Visualise sales data"
      ],
      "metadata": {
        "id": "FrKY9j66TvJp"
      }
    },
    {
      "cell_type": "code",
      "source": [
        "plt.figure(figsize=(10,6))\n",
        "plt.plot(df.index, df['Sales'], label='Sales Data')\n",
        "plt.title('Sales Data Over Time')\n",
        "plt.xlabel('Date')\n",
        "plt.ylabel('Sales')\n",
        "plt.legend()\n",
        "plt.show()"
      ],
      "metadata": {
        "id": "yz8xXyM-UOz4"
      },
      "execution_count": null,
      "outputs": []
    },
    {
      "cell_type": "markdown",
      "source": [
        "## Data preprocessing"
      ],
      "metadata": {
        "id": "xKZr_txcUTFp"
      }
    },
    {
      "cell_type": "code",
      "source": [
        "df.isnull().sum()\n",
        "\n",
        "df_diff = df['Sales'].diff().dropna()\n",
        "\n",
        "plt.figure(figsize=(10,6))\n",
        "plt.plot(df_diff, label='Differenced Sales Data')\n",
        "plt.title('Differenced Sales Data Over Time')\n",
        "plt.xlabel('Date')\n",
        "plt.ylabel('Sales Difference')\n",
        "plt.legend()\n",
        "plt.show()"
      ],
      "metadata": {
        "id": "Mh--_z-sUVyX"
      },
      "execution_count": null,
      "outputs": []
    },
    {
      "cell_type": "markdown",
      "source": [
        "## Appling ARIMA for forecasting"
      ],
      "metadata": {
        "id": "4dp2ZU4YUoQY"
      }
    },
    {
      "cell_type": "code",
      "source": [
        "train_size = int(len(df) * 0.8)\n",
        "train, test = df['Sales'][:train_size], df['Sales'][train_size:]\n",
        "\n",
        "model = ARIMA(train, order=(5, 1, 0))\n",
        "arima_model = model.fit()\n",
        "\n",
        "print(arima_model.summary())"
      ],
      "metadata": {
        "id": "-ItwpeDfUrlg"
      },
      "execution_count": null,
      "outputs": []
    },
    {
      "cell_type": "markdown",
      "source": [
        "### (as for the forecasting future sales...)"
      ],
      "metadata": {
        "id": "RoojVkf5Uxg-"
      }
    },
    {
      "cell_type": "code",
      "source": [
        "# Making predictions on the test set\n",
        "forecast = arima_model.forecast(steps=len(test))\n",
        "\n",
        "# Plotting predictions against the actual test data\n",
        "plt.figure(figsize=(10,6))\n",
        "plt.plot(test.index, test, label='Actual Sales', marker='o')\n",
        "plt.plot(test.index, forecast, label='Forecasted Sales', color='red', linestyle='--')\n",
        "plt.title('Actual vs Forecasted Sales')\n",
        "plt.xlabel('Date')\n",
        "plt.ylabel('Sales')\n",
        "plt.legend()\n",
        "plt.show()"
      ],
      "metadata": {
        "id": "lWcMn3ReU2Mw"
      },
      "execution_count": null,
      "outputs": []
    },
    {
      "cell_type": "markdown",
      "source": [
        "## Evaluating model"
      ],
      "metadata": {
        "id": "sDPbuLOHU5rW"
      }
    },
    {
      "cell_type": "code",
      "source": [
        "# Calculating performance metrics\n",
        "mae = mean_absolute_error(test, forecast)\n",
        "rmse = np.sqrt(mean_squared_error(test, forecast))\n",
        "\n",
        "print(f'Mean Absolute Error (MAE): {mae}')\n",
        "print(f'Root Mean Squared Error (RMSE): {rmse}')"
      ],
      "metadata": {
        "id": "WP12zA_yU8Jb"
      },
      "execution_count": null,
      "outputs": []
    },
    {
      "cell_type": "markdown",
      "source": [
        "## Future sales forecasting:"
      ],
      "metadata": {
        "id": "WOgWHNMkU-X8"
      }
    },
    {
      "cell_type": "code",
      "source": [
        "future_forecast = arima_model.forecast(steps=30)\n",
        "\n",
        "future_dates = pd.date_range(start=test.index[-1], periods=30, freq='D')\n",
        "forecast_df = pd.DataFrame({'Date': future_dates, 'Forecasted Sales': future_forecast})\n",
        "\n",
        "plt.figure(figsize=(10,6))\n",
        "plt.plot(df.index, df['Sales'], label='Historical Sales')\n",
        "plt.plot(forecast_df['Date'], forecast_df['Forecasted Sales'], label='Future Sales Forecast', color='orange', linestyle='--')\n",
        "plt.title('Sales Forecast for Next 30 Days')\n",
        "plt.xlabel('Date')\n",
        "plt.ylabel('Sales')\n",
        "plt.legend()\n",
        "plt.show()"
      ],
      "metadata": {
        "id": "-_WympCaVBAS"
      },
      "execution_count": null,
      "outputs": []
    }
  ]
}